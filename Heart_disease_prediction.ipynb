{
 "cells": [
  {
   "cell_type": "markdown",
   "metadata": {
    "_uuid": "bbd660b62cc616efa33651beedc49b86045b784d"
   },
   "source": [
    "## <font size=5> <strong>Heart Disease Prediction\n",
    " "
   ]
  },
  {
   "cell_type": "markdown",
   "metadata": {
    "_uuid": "e41ea25bec5928203cec544d0413fecd4b4e5555"
   },
   "source": [
    "## I. Importing essential libraries"
   ]
  },
  {
   "cell_type": "code",
   "execution_count": 1,
   "metadata": {
    "_uuid": "f571f7e57c828d45fe55f6136fe8c2e796f74d4e"
   },
   "outputs": [
    {
     "name": "stdout",
     "output_type": "stream",
     "text": [
      "['.ipynb_checkpoints', '65_ShubhamRana_1018604(Project).docx', '65_Shubhamrana_1018604(Report).doc', 'heart.csv', 'Heart_disease_prediction.ipynb', 'README.md']\n"
     ]
    }
   ],
   "source": [
    "import numpy as np\n",
    "import pandas as pd\n",
    "import matplotlib.pyplot as plt\n",
    "import seaborn as sns\n",
    "\n",
    "%matplotlib inline\n",
    "\n",
    "import os\n",
    "print(os.listdir())\n",
    "\n",
    "import warnings\n",
    "warnings.filterwarnings('ignore')"
   ]
  },
  {
   "cell_type": "markdown",
   "metadata": {
    "_uuid": "44e71221837f6fa60edc2c83b7492ddb019cc1cd"
   },
   "source": [
    "## II. Importing and understanding our dataset "
   ]
  },
  {
   "cell_type": "code",
   "execution_count": 4,
   "metadata": {
    "_uuid": "2a1a1dae64ae3c934849b2b918bc7d68cd59e3f6"
   },
   "outputs": [],
   "source": [
    "dataset = pd.read_csv(\"heart.csv\")"
   ]
  },
  {
   "cell_type": "code",
   "execution_count": 5,
   "metadata": {
    "_uuid": "86353d54a331dbf55a63874402cf13e2a72c3750"
   },
   "outputs": [
    {
     "data": {
      "text/plain": [
       "pandas.core.frame.DataFrame"
      ]
     },
     "execution_count": 5,
     "metadata": {},
     "output_type": "execute_result"
    }
   ],
   "source": [
    "type(dataset)"
   ]
  },
  {
   "cell_type": "markdown",
   "metadata": {
    "_uuid": "44649a50ce58d2e10a032f7d0e7ecf435e932481"
   },
   "source": [
    "#### Shape of dataset"
   ]
  },
  {
   "cell_type": "code",
   "execution_count": 6,
   "metadata": {
    "_uuid": "0a2396061d262bee451e61dd51be84d0bd1ac9d0"
   },
   "outputs": [
    {
     "data": {
      "text/plain": [
       "(303, 14)"
      ]
     },
     "execution_count": 6,
     "metadata": {},
     "output_type": "execute_result"
    }
   ],
   "source": [
    "dataset.shape"
   ]
  },
  {
   "cell_type": "markdown",
   "metadata": {
    "_uuid": "3e1de0c39fc28f086a5e8377cc5fbdbf91d377b3"
   },
   "source": [
    "#### Printing out a few columns"
   ]
  },
  {
   "cell_type": "code",
   "execution_count": 12,
   "metadata": {
    "_uuid": "87ebcc578e5959fe9a9c9a538c73122183454459"
   },
   "outputs": [
    {
     "data": {
      "text/html": [
       "<div>\n",
       "<style scoped>\n",
       "    .dataframe tbody tr th:only-of-type {\n",
       "        vertical-align: middle;\n",
       "    }\n",
       "\n",
       "    .dataframe tbody tr th {\n",
       "        vertical-align: top;\n",
       "    }\n",
       "\n",
       "    .dataframe thead th {\n",
       "        text-align: right;\n",
       "    }\n",
       "</style>\n",
       "<table border=\"1\" class=\"dataframe\">\n",
       "  <thead>\n",
       "    <tr style=\"text-align: right;\">\n",
       "      <th></th>\n",
       "      <th>age</th>\n",
       "      <th>sex</th>\n",
       "      <th>cp</th>\n",
       "      <th>trestbps</th>\n",
       "      <th>chol</th>\n",
       "      <th>fbs</th>\n",
       "      <th>restecg</th>\n",
       "      <th>thalach</th>\n",
       "      <th>exang</th>\n",
       "      <th>oldpeak</th>\n",
       "      <th>slope</th>\n",
       "      <th>ca</th>\n",
       "      <th>thal</th>\n",
       "      <th>target</th>\n",
       "    </tr>\n",
       "  </thead>\n",
       "  <tbody>\n",
       "    <tr>\n",
       "      <th>0</th>\n",
       "      <td>63</td>\n",
       "      <td>1</td>\n",
       "      <td>3</td>\n",
       "      <td>145</td>\n",
       "      <td>233</td>\n",
       "      <td>1</td>\n",
       "      <td>0</td>\n",
       "      <td>150</td>\n",
       "      <td>0</td>\n",
       "      <td>2.3</td>\n",
       "      <td>0</td>\n",
       "      <td>0</td>\n",
       "      <td>1</td>\n",
       "      <td>1</td>\n",
       "    </tr>\n",
       "    <tr>\n",
       "      <th>1</th>\n",
       "      <td>37</td>\n",
       "      <td>1</td>\n",
       "      <td>2</td>\n",
       "      <td>130</td>\n",
       "      <td>250</td>\n",
       "      <td>0</td>\n",
       "      <td>1</td>\n",
       "      <td>187</td>\n",
       "      <td>0</td>\n",
       "      <td>3.5</td>\n",
       "      <td>0</td>\n",
       "      <td>0</td>\n",
       "      <td>2</td>\n",
       "      <td>1</td>\n",
       "    </tr>\n",
       "    <tr>\n",
       "      <th>2</th>\n",
       "      <td>41</td>\n",
       "      <td>0</td>\n",
       "      <td>1</td>\n",
       "      <td>130</td>\n",
       "      <td>204</td>\n",
       "      <td>0</td>\n",
       "      <td>0</td>\n",
       "      <td>172</td>\n",
       "      <td>0</td>\n",
       "      <td>1.4</td>\n",
       "      <td>2</td>\n",
       "      <td>0</td>\n",
       "      <td>2</td>\n",
       "      <td>1</td>\n",
       "    </tr>\n",
       "    <tr>\n",
       "      <th>3</th>\n",
       "      <td>56</td>\n",
       "      <td>1</td>\n",
       "      <td>1</td>\n",
       "      <td>120</td>\n",
       "      <td>236</td>\n",
       "      <td>0</td>\n",
       "      <td>1</td>\n",
       "      <td>178</td>\n",
       "      <td>0</td>\n",
       "      <td>0.8</td>\n",
       "      <td>2</td>\n",
       "      <td>0</td>\n",
       "      <td>2</td>\n",
       "      <td>1</td>\n",
       "    </tr>\n",
       "    <tr>\n",
       "      <th>4</th>\n",
       "      <td>57</td>\n",
       "      <td>0</td>\n",
       "      <td>0</td>\n",
       "      <td>120</td>\n",
       "      <td>354</td>\n",
       "      <td>0</td>\n",
       "      <td>1</td>\n",
       "      <td>163</td>\n",
       "      <td>1</td>\n",
       "      <td>0.6</td>\n",
       "      <td>2</td>\n",
       "      <td>0</td>\n",
       "      <td>2</td>\n",
       "      <td>1</td>\n",
       "    </tr>\n",
       "  </tbody>\n",
       "</table>\n",
       "</div>"
      ],
      "text/plain": [
       "   age  sex  cp  trestbps  chol  fbs  restecg  thalach  exang  oldpeak  slope  \\\n",
       "0   63    1   3       145   233    1        0      150      0      2.3      0   \n",
       "1   37    1   2       130   250    0        1      187      0      3.5      0   \n",
       "2   41    0   1       130   204    0        0      172      0      1.4      2   \n",
       "3   56    1   1       120   236    0        1      178      0      0.8      2   \n",
       "4   57    0   0       120   354    0        1      163      1      0.6      2   \n",
       "\n",
       "   ca  thal  target  \n",
       "0   0     1       1  \n",
       "1   0     2       1  \n",
       "2   0     2       1  \n",
       "3   0     2       1  \n",
       "4   0     2       1  "
      ]
     },
     "execution_count": 12,
     "metadata": {},
     "output_type": "execute_result"
    }
   ],
   "source": [
    "dataset.head(5)"
   ]
  },
  {
   "cell_type": "markdown",
   "metadata": {
    "_uuid": "1113236bec2848d33c5bfe088ff0d03246b8b7ce"
   },
   "source": [
    "#### Description"
   ]
  },
  {
   "cell_type": "code",
   "execution_count": 13,
   "metadata": {
    "_uuid": "c31619815cb0dae5586985671fdc21110b39a821"
   },
   "outputs": [
    {
     "data": {
      "text/html": [
       "<div>\n",
       "<style scoped>\n",
       "    .dataframe tbody tr th:only-of-type {\n",
       "        vertical-align: middle;\n",
       "    }\n",
       "\n",
       "    .dataframe tbody tr th {\n",
       "        vertical-align: top;\n",
       "    }\n",
       "\n",
       "    .dataframe thead th {\n",
       "        text-align: right;\n",
       "    }\n",
       "</style>\n",
       "<table border=\"1\" class=\"dataframe\">\n",
       "  <thead>\n",
       "    <tr style=\"text-align: right;\">\n",
       "      <th></th>\n",
       "      <th>age</th>\n",
       "      <th>sex</th>\n",
       "      <th>cp</th>\n",
       "      <th>trestbps</th>\n",
       "      <th>chol</th>\n",
       "      <th>fbs</th>\n",
       "      <th>restecg</th>\n",
       "      <th>thalach</th>\n",
       "      <th>exang</th>\n",
       "      <th>oldpeak</th>\n",
       "      <th>slope</th>\n",
       "      <th>ca</th>\n",
       "      <th>thal</th>\n",
       "      <th>target</th>\n",
       "    </tr>\n",
       "  </thead>\n",
       "  <tbody>\n",
       "    <tr>\n",
       "      <th>count</th>\n",
       "      <td>303.000000</td>\n",
       "      <td>303.000000</td>\n",
       "      <td>303.000000</td>\n",
       "      <td>303.000000</td>\n",
       "      <td>303.000000</td>\n",
       "      <td>303.000000</td>\n",
       "      <td>303.000000</td>\n",
       "      <td>303.000000</td>\n",
       "      <td>303.000000</td>\n",
       "      <td>303.000000</td>\n",
       "      <td>303.000000</td>\n",
       "      <td>303.000000</td>\n",
       "      <td>303.000000</td>\n",
       "      <td>303.000000</td>\n",
       "    </tr>\n",
       "    <tr>\n",
       "      <th>mean</th>\n",
       "      <td>54.366337</td>\n",
       "      <td>0.683168</td>\n",
       "      <td>0.966997</td>\n",
       "      <td>131.623762</td>\n",
       "      <td>246.264026</td>\n",
       "      <td>0.148515</td>\n",
       "      <td>0.528053</td>\n",
       "      <td>149.646865</td>\n",
       "      <td>0.326733</td>\n",
       "      <td>1.039604</td>\n",
       "      <td>1.399340</td>\n",
       "      <td>0.729373</td>\n",
       "      <td>2.313531</td>\n",
       "      <td>0.544554</td>\n",
       "    </tr>\n",
       "    <tr>\n",
       "      <th>std</th>\n",
       "      <td>9.082101</td>\n",
       "      <td>0.466011</td>\n",
       "      <td>1.032052</td>\n",
       "      <td>17.538143</td>\n",
       "      <td>51.830751</td>\n",
       "      <td>0.356198</td>\n",
       "      <td>0.525860</td>\n",
       "      <td>22.905161</td>\n",
       "      <td>0.469794</td>\n",
       "      <td>1.161075</td>\n",
       "      <td>0.616226</td>\n",
       "      <td>1.022606</td>\n",
       "      <td>0.612277</td>\n",
       "      <td>0.498835</td>\n",
       "    </tr>\n",
       "    <tr>\n",
       "      <th>min</th>\n",
       "      <td>29.000000</td>\n",
       "      <td>0.000000</td>\n",
       "      <td>0.000000</td>\n",
       "      <td>94.000000</td>\n",
       "      <td>126.000000</td>\n",
       "      <td>0.000000</td>\n",
       "      <td>0.000000</td>\n",
       "      <td>71.000000</td>\n",
       "      <td>0.000000</td>\n",
       "      <td>0.000000</td>\n",
       "      <td>0.000000</td>\n",
       "      <td>0.000000</td>\n",
       "      <td>0.000000</td>\n",
       "      <td>0.000000</td>\n",
       "    </tr>\n",
       "    <tr>\n",
       "      <th>25%</th>\n",
       "      <td>47.500000</td>\n",
       "      <td>0.000000</td>\n",
       "      <td>0.000000</td>\n",
       "      <td>120.000000</td>\n",
       "      <td>211.000000</td>\n",
       "      <td>0.000000</td>\n",
       "      <td>0.000000</td>\n",
       "      <td>133.500000</td>\n",
       "      <td>0.000000</td>\n",
       "      <td>0.000000</td>\n",
       "      <td>1.000000</td>\n",
       "      <td>0.000000</td>\n",
       "      <td>2.000000</td>\n",
       "      <td>0.000000</td>\n",
       "    </tr>\n",
       "    <tr>\n",
       "      <th>50%</th>\n",
       "      <td>55.000000</td>\n",
       "      <td>1.000000</td>\n",
       "      <td>1.000000</td>\n",
       "      <td>130.000000</td>\n",
       "      <td>240.000000</td>\n",
       "      <td>0.000000</td>\n",
       "      <td>1.000000</td>\n",
       "      <td>153.000000</td>\n",
       "      <td>0.000000</td>\n",
       "      <td>0.800000</td>\n",
       "      <td>1.000000</td>\n",
       "      <td>0.000000</td>\n",
       "      <td>2.000000</td>\n",
       "      <td>1.000000</td>\n",
       "    </tr>\n",
       "    <tr>\n",
       "      <th>75%</th>\n",
       "      <td>61.000000</td>\n",
       "      <td>1.000000</td>\n",
       "      <td>2.000000</td>\n",
       "      <td>140.000000</td>\n",
       "      <td>274.500000</td>\n",
       "      <td>0.000000</td>\n",
       "      <td>1.000000</td>\n",
       "      <td>166.000000</td>\n",
       "      <td>1.000000</td>\n",
       "      <td>1.600000</td>\n",
       "      <td>2.000000</td>\n",
       "      <td>1.000000</td>\n",
       "      <td>3.000000</td>\n",
       "      <td>1.000000</td>\n",
       "    </tr>\n",
       "    <tr>\n",
       "      <th>max</th>\n",
       "      <td>77.000000</td>\n",
       "      <td>1.000000</td>\n",
       "      <td>3.000000</td>\n",
       "      <td>200.000000</td>\n",
       "      <td>564.000000</td>\n",
       "      <td>1.000000</td>\n",
       "      <td>2.000000</td>\n",
       "      <td>202.000000</td>\n",
       "      <td>1.000000</td>\n",
       "      <td>6.200000</td>\n",
       "      <td>2.000000</td>\n",
       "      <td>4.000000</td>\n",
       "      <td>3.000000</td>\n",
       "      <td>1.000000</td>\n",
       "    </tr>\n",
       "  </tbody>\n",
       "</table>\n",
       "</div>"
      ],
      "text/plain": [
       "              age         sex          cp    trestbps        chol         fbs  \\\n",
       "count  303.000000  303.000000  303.000000  303.000000  303.000000  303.000000   \n",
       "mean    54.366337    0.683168    0.966997  131.623762  246.264026    0.148515   \n",
       "std      9.082101    0.466011    1.032052   17.538143   51.830751    0.356198   \n",
       "min     29.000000    0.000000    0.000000   94.000000  126.000000    0.000000   \n",
       "25%     47.500000    0.000000    0.000000  120.000000  211.000000    0.000000   \n",
       "50%     55.000000    1.000000    1.000000  130.000000  240.000000    0.000000   \n",
       "75%     61.000000    1.000000    2.000000  140.000000  274.500000    0.000000   \n",
       "max     77.000000    1.000000    3.000000  200.000000  564.000000    1.000000   \n",
       "\n",
       "          restecg     thalach       exang     oldpeak       slope          ca  \\\n",
       "count  303.000000  303.000000  303.000000  303.000000  303.000000  303.000000   \n",
       "mean     0.528053  149.646865    0.326733    1.039604    1.399340    0.729373   \n",
       "std      0.525860   22.905161    0.469794    1.161075    0.616226    1.022606   \n",
       "min      0.000000   71.000000    0.000000    0.000000    0.000000    0.000000   \n",
       "25%      0.000000  133.500000    0.000000    0.000000    1.000000    0.000000   \n",
       "50%      1.000000  153.000000    0.000000    0.800000    1.000000    0.000000   \n",
       "75%      1.000000  166.000000    1.000000    1.600000    2.000000    1.000000   \n",
       "max      2.000000  202.000000    1.000000    6.200000    2.000000    4.000000   \n",
       "\n",
       "             thal      target  \n",
       "count  303.000000  303.000000  \n",
       "mean     2.313531    0.544554  \n",
       "std      0.612277    0.498835  \n",
       "min      0.000000    0.000000  \n",
       "25%      2.000000    0.000000  \n",
       "50%      2.000000    1.000000  \n",
       "75%      3.000000    1.000000  \n",
       "max      3.000000    1.000000  "
      ]
     },
     "execution_count": 13,
     "metadata": {},
     "output_type": "execute_result"
    }
   ],
   "source": [
    "dataset.describe()"
   ]
  },
  {
   "cell_type": "code",
   "execution_count": 14,
   "metadata": {
    "_uuid": "718b82039841c137ab7e08a6e79e264643134642"
   },
   "outputs": [
    {
     "name": "stdout",
     "output_type": "stream",
     "text": [
      "<class 'pandas.core.frame.DataFrame'>\n",
      "RangeIndex: 303 entries, 0 to 302\n",
      "Data columns (total 14 columns):\n",
      " #   Column    Non-Null Count  Dtype  \n",
      "---  ------    --------------  -----  \n",
      " 0   age       303 non-null    int64  \n",
      " 1   sex       303 non-null    int64  \n",
      " 2   cp        303 non-null    int64  \n",
      " 3   trestbps  303 non-null    int64  \n",
      " 4   chol      303 non-null    int64  \n",
      " 5   fbs       303 non-null    int64  \n",
      " 6   restecg   303 non-null    int64  \n",
      " 7   thalach   303 non-null    int64  \n",
      " 8   exang     303 non-null    int64  \n",
      " 9   oldpeak   303 non-null    float64\n",
      " 10  slope     303 non-null    int64  \n",
      " 11  ca        303 non-null    int64  \n",
      " 12  thal      303 non-null    int64  \n",
      " 13  target    303 non-null    int64  \n",
      "dtypes: float64(1), int64(13)\n",
      "memory usage: 33.3 KB\n"
     ]
    }
   ],
   "source": [
    "dataset.info()"
   ]
  },
  {
   "cell_type": "code",
   "execution_count": 15,
   "metadata": {
    "_uuid": "99d7182ca186d37f63b1fc433fe74ad5e2bc7d2f"
   },
   "outputs": [],
   "source": [
    "###Luckily, we have no missing values"
   ]
  },
  {
   "cell_type": "markdown",
   "metadata": {},
   "source": [
    "#### Let's understand our columns better:"
   ]
  },
  {
   "cell_type": "code",
   "execution_count": 26,
   "metadata": {},
   "outputs": [
    {
     "name": "stdout",
     "output_type": "stream",
     "text": [
      "age:\t\t\tage\n",
      "sex:\t\t\t1: male, 0: female\n",
      "cp:\t\t\tchest pain type, 1: typical angina, 2: atypical angina, 3: non-anginal pain, 4: asymptomatic\n",
      "trestbps:\t\t\tresting blood pressure\n",
      "chol:\t\t\t serum cholestoral in mg/dl\n",
      "fbs:\t\t\tfasting blood sugar > 120 mg/dl\n",
      "restecg:\t\t\tresting electrocardiographic results (values 0,1,2)\n",
      "thalach:\t\t\t maximum heart rate achieved\n",
      "exang:\t\t\texercise induced angina\n",
      "oldpeak:\t\t\toldpeak = ST depression induced by exercise relative to rest\n",
      "slope:\t\t\tthe slope of the peak exercise ST segment\n",
      "ca:\t\t\tnumber of major vessels (0-3) colored by flourosopy\n",
      "thal:\t\t\tthal: 3 = normal; 6 = fixed defect; 7 = reversable defect\n"
     ]
    }
   ],
   "source": [
    "info = [\"age\",\"1: male, 0: female\",\"chest pain type, 1: typical angina, 2: atypical angina, 3: non-anginal pain, 4: asymptomatic\",\"resting blood pressure\",\" serum cholestoral in mg/dl\",\"fasting blood sugar > 120 mg/dl\",\"resting electrocardiographic results (values 0,1,2)\",\" maximum heart rate achieved\",\"exercise induced angina\",\"oldpeak = ST depression induced by exercise relative to rest\",\"the slope of the peak exercise ST segment\",\"number of major vessels (0-3) colored by flourosopy\",\"thal: 3 = normal; 6 = fixed defect; 7 = reversable defect\"]\n",
    "\n",
    "\n",
    "\n",
    "for i in range(len(info)):\n",
    "    print(dataset.columns[i]+\":\\t\\t\\t\"+info[i])"
   ]
  },
  {
   "cell_type": "markdown",
   "metadata": {
    "_uuid": "6a970312b67b588610a8579ecc2ba4bac0fcee04"
   },
   "source": [
    "#### Analysing the 'target' variable"
   ]
  },
  {
   "cell_type": "code",
   "execution_count": 16,
   "metadata": {
    "_uuid": "b883243919bd382193ed15e2a90f9b522bf6f1f7"
   },
   "outputs": [
    {
     "data": {
      "text/plain": [
       "count    303.000000\n",
       "mean       0.544554\n",
       "std        0.498835\n",
       "min        0.000000\n",
       "25%        0.000000\n",
       "50%        1.000000\n",
       "75%        1.000000\n",
       "max        1.000000\n",
       "Name: target, dtype: float64"
      ]
     },
     "execution_count": 16,
     "metadata": {},
     "output_type": "execute_result"
    }
   ],
   "source": [
    "dataset[\"target\"].describe()"
   ]
  },
  {
   "cell_type": "code",
   "execution_count": 17,
   "metadata": {
    "_uuid": "9c107b83e0148914826282bf1f0ab28505d577ab"
   },
   "outputs": [
    {
     "data": {
      "text/plain": [
       "array([1, 0], dtype=int64)"
      ]
     },
     "execution_count": 17,
     "metadata": {},
     "output_type": "execute_result"
    }
   ],
   "source": [
    "dataset[\"target\"].unique()"
   ]
  },
  {
   "cell_type": "markdown",
   "metadata": {
    "_uuid": "3ae0dfa26e2daf4cfc8e1c6f3b5008d0dab22ec0"
   },
   "source": [
    "### Checking correlation between columns"
   ]
  },
  {
   "cell_type": "code",
   "execution_count": 18,
   "metadata": {
    "_uuid": "3059188d3874be2e0c80e13655609ac6a6fc644f"
   },
   "outputs": [
    {
     "name": "stdout",
     "output_type": "stream",
     "text": [
      "target      1.000000\n",
      "exang       0.436757\n",
      "cp          0.433798\n",
      "oldpeak     0.430696\n",
      "thalach     0.421741\n",
      "ca          0.391724\n",
      "slope       0.345877\n",
      "thal        0.344029\n",
      "sex         0.280937\n",
      "age         0.225439\n",
      "trestbps    0.144931\n",
      "restecg     0.137230\n",
      "chol        0.085239\n",
      "fbs         0.028046\n",
      "Name: target, dtype: float64\n"
     ]
    }
   ],
   "source": [
    "print(dataset.corr()[\"target\"].abs().sort_values(ascending=False))"
   ]
  },
  {
   "cell_type": "code",
   "execution_count": 19,
   "metadata": {
    "_uuid": "6e8cf6f86952d94764c1021207fa5b383b2b84bf"
   },
   "outputs": [],
   "source": [
    "#This shows that most columns are moderately correlated with target, but 'fbs' is very weakly correlated."
   ]
  },
  {
   "cell_type": "markdown",
   "metadata": {
    "_uuid": "40b6c0a9d03bcab78b87bd41c7df3fe1b930547a"
   },
   "source": [
    "## Exploratory Data Analysis (EDA)"
   ]
  },
  {
   "cell_type": "markdown",
   "metadata": {
    "_uuid": "41da6ba94903ad6ee64b1ba6a1462815ae603536"
   },
   "source": [
    "### First, analysing the target variable:"
   ]
  },
  {
   "cell_type": "code",
   "execution_count": 20,
   "metadata": {
    "_uuid": "29aa23ccb8e6438688e16346b3474f4cc03bae13"
   },
   "outputs": [
    {
     "name": "stdout",
     "output_type": "stream",
     "text": [
      "1    165\n",
      "0    138\n",
      "Name: target, dtype: int64\n"
     ]
    },
    {
     "data": {
      "image/png": "[encoded data removed]",
      "text/plain": [
       "<Figure size 432x288 with 1 Axes>"
      ]
     },
     "metadata": {
      "needs_background": "light"
     },
     "output_type": "display_data"
    }
   ],
   "source": [
    "y = dataset[\"target\"]\n",
    "\n",
    "sns.countplot(y)\n",
    "\n",
    "\n",
    "target_temp = dataset.target.value_counts()\n",
    "\n",
    "print(target_temp)"
   ]
  },
  {
   "cell_type": "code",
   "execution_count": 21,
   "metadata": {
    "_uuid": "5240af8bcd12736900050cea077c713d7d9641df"
   },
   "outputs": [
    {
     "name": "stdout",
     "output_type": "stream",
     "text": [
      "Percentage of patience without heart problems: 45.54\n",
      "Percentage of patience with heart problems: 54.46\n"
     ]
    }
   ],
   "source": [
    "print(\"Percentage of patience without heart problems: \"+str(round(target_temp[0]*100/303,2)))\n",
    "print(\"Percentage of patience with heart problems: \"+str(round(target_temp[1]*100/303,2)))\n",
    "\n"
   ]
  },
  {
   "cell_type": "markdown",
   "metadata": {
    "_uuid": "e7de1da221d4ee72e89c365fecfa7d4506f1b184"
   },
   "source": [
    "### We'll analyse 'sex', 'cp', 'fbs', 'restecg', 'exang', 'slope', 'ca' and 'thal' features"
   ]
  },
  {
   "cell_type": "markdown",
   "metadata": {
    "_uuid": "82f9919a1312b53f22980a0071d077e5b0288d90"
   },
   "source": [
    "### Analysing the 'Sex' feature"
   ]
  },
  {
   "cell_type": "code",
   "execution_count": 22,
   "metadata": {
    "_uuid": "07a3fb2f44b82360d0393377029851655bcdcd31"
   },
   "outputs": [
    {
     "data": {
      "text/plain": [
       "array([1, 0], dtype=int64)"
      ]
     },
     "execution_count": 22,
     "metadata": {},
     "output_type": "execute_result"
    }
   ],
   "source": [
    "dataset[\"sex\"].unique()"
   ]
  },
  {
   "cell_type": "markdown",
   "metadata": {
    "_uuid": "623fe97e454ea061942ec6d948adeb5b7026cc65"
   },
   "source": [
    "##### We notice, that as expected, the 'sex' feature has 2 unique features"
   ]
  },
  {
   "cell_type": "code",
   "execution_count": 23,
   "metadata": {
    "_uuid": "5d10e6c167251e6d3b1b82a06159da234eeef721"
   },
   "outputs": [
    {
     "data": {
      "text/plain": [
       "<matplotlib.axes._subplots.AxesSubplot at 0x20259f120b8>"
      ]
     },
     "execution_count": 23,
     "metadata": {},
     "output_type": "execute_result"
    },
    {
     "data": {
      "image/png": "[encoded data removed]",
      "text/plain": [
       "<Figure size 432x288 with 1 Axes>"
      ]
     },
     "metadata": {
      "needs_background": "light"
     },
     "output_type": "display_data"
    }
   ],
   "source": [
    "sns.barplot(dataset[\"sex\"],y)"
   ]
  },
  {
   "cell_type": "markdown",
   "metadata": {
    "_uuid": "31142d6b72ae034487a088860fe9c7ff85cf7ca2"
   },
   "source": [
    "##### We notice, that females are more likely to have heart problems than males"
   ]
  },
  {
   "cell_type": "markdown",
   "metadata": {
    "_uuid": "f7bbd747b02746eadfa2b525544509c8545ac1af"
   },
   "source": [
    "### Analysing the 'Chest Pain Type' feature"
   ]
  },
  {
   "cell_type": "code",
   "execution_count": 27,
   "metadata": {
    "_uuid": "7c795d4a86ee05d58e10a412add90065afbd4a70"
   },
   "outputs": [
    {
     "data": {
      "text/plain": [
       "array([3, 2, 1, 0], dtype=int64)"
      ]
     },
     "execution_count": 27,
     "metadata": {},
     "output_type": "execute_result"
    }
   ],
   "source": [
    "dataset[\"cp\"].unique()"
   ]
  },
  {
   "cell_type": "markdown",
   "metadata": {
    "_uuid": "4e83947e6876ffa63837c7e5ce1364a53cbfa499"
   },
   "source": [
    "##### As expected, the CP feature has values from 0 to 3"
   ]
  },
  {
   "cell_type": "code",
   "execution_count": 28,
   "metadata": {
    "_uuid": "56d6ed2b3d8d20a61814980cd459502b452d14c1"
   },
   "outputs": [
    {
     "data": {
      "text/plain": [
       "<matplotlib.axes._subplots.AxesSubplot at 0x20259fcfc88>"
      ]
     },
     "execution_count": 28,
     "metadata": {},
     "output_type": "execute_result"
    },
    {
     "data": {
      "image/png": "[encoded data removed]",
      "text/plain": [
       "<Figure size 432x288 with 1 Axes>"
      ]
     },
     "metadata": {
      "needs_background": "light"
     },
     "output_type": "display_data"
    }
   ],
   "source": [
    "sns.barplot(dataset[\"cp\"],y)"
   ]
  },
  {
   "cell_type": "markdown",
   "metadata": {
    "_uuid": "510c7c3a7386a7e308cc6052025dc806fad61534"
   },
   "source": [
    "##### We notice, that chest pain of '0', i.e. the ones with typical angina are much less likely to have heart problems"
   ]
  },
  {
   "cell_type": "markdown",
   "metadata": {
    "_uuid": "bb50bd1cedd31d29683e2411439368aa1390e7ef"
   },
   "source": [
    "### Analysing the FBS feature"
   ]
  },
  {
   "cell_type": "code",
   "execution_count": 29,
   "metadata": {
    "_uuid": "55f9ca01da5294b5404f3eb14d202ae90e0ea1bf"
   },
   "outputs": [
    {
     "data": {
      "text/plain": [
       "count    303.000000\n",
       "mean       0.148515\n",
       "std        0.356198\n",
       "min        0.000000\n",
       "25%        0.000000\n",
       "50%        0.000000\n",
       "75%        0.000000\n",
       "max        1.000000\n",
       "Name: fbs, dtype: float64"
      ]
     },
     "execution_count": 29,
     "metadata": {},
     "output_type": "execute_result"
    }
   ],
   "source": [
    "dataset[\"fbs\"].describe()"
   ]
  },
  {
   "cell_type": "code",
   "execution_count": 30,
   "metadata": {
    "_uuid": "43d491d311a8b96a6a9cbecbeff87f577584cd3a"
   },
   "outputs": [
    {
     "data": {
      "text/plain": [
       "array([1, 0], dtype=int64)"
      ]
     },
     "execution_count": 30,
     "metadata": {},
     "output_type": "execute_result"
    }
   ],
   "source": [
    "dataset[\"fbs\"].unique()"
   ]
  },
  {
   "cell_type": "code",
   "execution_count": 31,
   "metadata": {
    "_uuid": "90509dcee97df858115131c771e69347a044aafb"
   },
   "outputs": [
    {
     "data": {
      "text/plain": [
       "<matplotlib.axes._subplots.AxesSubplot at 0x2025a030358>"
      ]
     },
     "execution_count": 31,
     "metadata": {},
     "output_type": "execute_result"
    },
    {
     "data": {
      "image/png": "[encoded data removed]",
      "text/plain": [
       "<Figure size 432x288 with 1 Axes>"
      ]
     },
     "metadata": {
      "needs_background": "light"
     },
     "output_type": "display_data"
    }
   ],
   "source": [
    "sns.barplot(dataset[\"fbs\"],y)"
   ]
  },
  {
   "cell_type": "markdown",
   "metadata": {
    "_uuid": "7ec0ef582de18e2ddd06083d4caca7f760ba3700"
   },
   "source": [
    "##### Nothing extraordinary here"
   ]
  },
  {
   "cell_type": "markdown",
   "metadata": {
    "_uuid": "5a8d6384c879ed40eddefed03b16607bc02deecf"
   },
   "source": [
    "### Analysing the restecg feature"
   ]
  },
  {
   "cell_type": "code",
   "execution_count": 32,
   "metadata": {
    "_uuid": "b12fcc535fe07bc58aa99e97ec9b4e0b01f30a8d"
   },
   "outputs": [
    {
     "data": {
      "text/plain": [
       "array([0, 1, 2], dtype=int64)"
      ]
     },
     "execution_count": 32,
     "metadata": {},
     "output_type": "execute_result"
    }
   ],
   "source": [
    "dataset[\"restecg\"].unique()"
   ]
  },
  {
   "cell_type": "code",
   "execution_count": 33,
   "metadata": {
    "_uuid": "ccae9489c2b6e63adb87cef83d367f49ef08a133"
   },
   "outputs": [
    {
     "data": {
      "text/plain": [
       "<matplotlib.axes._subplots.AxesSubplot at 0x2025a07f0f0>"
      ]
     },
     "execution_count": 33,
     "metadata": {},
     "output_type": "execute_result"
    },
    {
     "data": {
      "image/png": "[encoded data removed]",
      "text/plain": [
       "<Figure size 432x288 with 1 Axes>"
      ]
     },
     "metadata": {
      "needs_background": "light"
     },
     "output_type": "display_data"
    }
   ],
   "source": [
    "sns.barplot(dataset[\"restecg\"],y)"
   ]
  },
  {
   "cell_type": "markdown",
   "metadata": {
    "_uuid": "84cf1d3ca8d3507765bbb3763834c3795380f1bf"
   },
   "source": [
    "##### We realize that people with restecg '1' and '0' are much more likely to have a heart disease than with restecg '2'"
   ]
  },
  {
   "cell_type": "markdown",
   "metadata": {
    "_uuid": "f442f08734344740ebc225af7a565bcb91962dca"
   },
   "source": [
    "##### People with exang=1 i.e. Exercise induced angina are much less likely to have heart problems"
   ]
  },
  {
   "cell_type": "markdown",
   "metadata": {
    "_uuid": "d1c95f2180e264978c85703ece34898dab4d522b"
   },
   "source": [
    "## IV. Train Test split"
   ]
  },
  {
   "cell_type": "code",
   "execution_count": 34,
   "metadata": {
    "_uuid": "829fcda5b63e1b9f7ecb7762e8ca617166533aca"
   },
   "outputs": [],
   "source": [
    "from sklearn.model_selection import train_test_split\n",
    "\n",
    "predictors = dataset.drop(\"target\",axis=1)\n",
    "target = dataset[\"target\"]\n",
    "\n",
    "X_train,X_test,Y_train,Y_test = train_test_split(predictors,target,test_size=0.20,random_state=0)"
   ]
  },
  {
   "cell_type": "code",
   "execution_count": 35,
   "metadata": {
    "_uuid": "7a74842015c2f193d16caa4fa25e2c4cbf1940f8"
   },
   "outputs": [
    {
     "data": {
      "text/plain": [
       "(242, 13)"
      ]
     },
     "execution_count": 35,
     "metadata": {},
     "output_type": "execute_result"
    }
   ],
   "source": [
    "X_train.shape"
   ]
  },
  {
   "cell_type": "code",
   "execution_count": 36,
   "metadata": {
    "_uuid": "1f777652df4521deb877dac4d5d635d8cd35b279"
   },
   "outputs": [
    {
     "data": {
      "text/plain": [
       "(61, 13)"
      ]
     },
     "execution_count": 36,
     "metadata": {},
     "output_type": "execute_result"
    }
   ],
   "source": [
    "X_test.shape"
   ]
  },
  {
   "cell_type": "code",
   "execution_count": 37,
   "metadata": {
    "_uuid": "028c968a076840657faf7dbc3bfee9fe7b5ca45a"
   },
   "outputs": [
    {
     "data": {
      "text/plain": [
       "(242,)"
      ]
     },
     "execution_count": 37,
     "metadata": {},
     "output_type": "execute_result"
    }
   ],
   "source": [
    "Y_train.shape"
   ]
  },
  {
   "cell_type": "code",
   "execution_count": 38,
   "metadata": {
    "_uuid": "eb6857dfc18da52dae38bec95d20106f39136e61"
   },
   "outputs": [
    {
     "data": {
      "text/plain": [
       "(61,)"
      ]
     },
     "execution_count": 38,
     "metadata": {},
     "output_type": "execute_result"
    }
   ],
   "source": [
    "Y_test.shape"
   ]
  },
  {
   "cell_type": "markdown",
   "metadata": {
    "_uuid": "3b4f28488a92917f26e9876c1880295ec9c077ed"
   },
   "source": [
    "## V. Model Fitting"
   ]
  },
  {
   "cell_type": "code",
   "execution_count": 39,
   "metadata": {
    "_uuid": "fe363c1be8335a48a4444660db5fa6bd0a24b71a"
   },
   "outputs": [],
   "source": [
    "from sklearn.metrics import accuracy_score"
   ]
  },
  {
   "cell_type": "markdown",
   "metadata": {
    "_uuid": "afa6b322cbc225f3353bd295aea24fe5fbbb78fe"
   },
   "source": [
    "### Logistic Regression"
   ]
  },
  {
   "cell_type": "code",
   "execution_count": 42,
   "metadata": {
    "_uuid": "9aea2f597203ccf38cd0d67ae58bff6e163dea1c"
   },
   "outputs": [],
   "source": [
    "from sklearn.linear_model import LogisticRegression\n",
    "\n",
    "lr = LogisticRegression()\n",
    "\n",
    "lr.fit(X_train,Y_train)\n",
    "\n",
    "Y_pred_lr = lr.predict(X_test)"
   ]
  },
  {
   "cell_type": "code",
   "execution_count": 43,
   "metadata": {
    "_uuid": "58fb833d1c74355ebdafe926968632942f377421"
   },
   "outputs": [
    {
     "data": {
      "text/plain": [
       "(61,)"
      ]
     },
     "execution_count": 43,
     "metadata": {},
     "output_type": "execute_result"
    }
   ],
   "source": [
    "Y_pred_lr.shape"
   ]
  },
  {
   "cell_type": "code",
   "execution_count": 44,
   "metadata": {
    "_uuid": "ee4cba838316adf863f8daf131d36a970d36b839"
   },
   "outputs": [
    {
     "name": "stdout",
     "output_type": "stream",
     "text": [
      "The accuracy score achieved using Logistic Regression is: 85.25 %\n"
     ]
    }
   ],
   "source": [
    "score_lr = round(accuracy_score(Y_pred_lr,Y_test)*100,2)\n",
    "\n",
    "print(\"The accuracy score achieved using Logistic Regression is: \"+str(score_lr)+\" %\")"
   ]
  },
  {
   "cell_type": "markdown",
   "metadata": {
    "_uuid": "4f92fceb9584ae03d3ab370ee11899cb287be690"
   },
   "source": [
    "### Naive Bayes"
   ]
  },
  {
   "cell_type": "code",
   "execution_count": 45,
   "metadata": {
    "_uuid": "ffcdab99b4108902547f0179a242a9757078dc68"
   },
   "outputs": [],
   "source": [
    "from sklearn.naive_bayes import GaussianNB\n",
    "\n",
    "nb = GaussianNB()\n",
    "\n",
    "nb.fit(X_train,Y_train)\n",
    "\n",
    "Y_pred_nb = nb.predict(X_test)"
   ]
  },
  {
   "cell_type": "code",
   "execution_count": 46,
   "metadata": {
    "_uuid": "9109059d06e4c92494451b3cdab0bbb5a1816072"
   },
   "outputs": [
    {
     "data": {
      "text/plain": [
       "(61,)"
      ]
     },
     "execution_count": 46,
     "metadata": {},
     "output_type": "execute_result"
    }
   ],
   "source": [
    "Y_pred_nb.shape"
   ]
  },
  {
   "cell_type": "code",
   "execution_count": 47,
   "metadata": {
    "_uuid": "e8f8f55db061ada0b669ffa46e9ecc745fcda1ae"
   },
   "outputs": [
    {
     "name": "stdout",
     "output_type": "stream",
     "text": [
      "The accuracy score achieved using Naive Bayes is: 85.25 %\n"
     ]
    }
   ],
   "source": [
    "score_nb = round(accuracy_score(Y_pred_nb,Y_test)*100,2)\n",
    "\n",
    "print(\"The accuracy score achieved using Naive Bayes is: \"+str(score_nb)+\" %\")"
   ]
  },
  {
   "cell_type": "markdown",
   "metadata": {
    "_uuid": "2af8b010893284bae0d6cccf66ccfda646e7ca58"
   },
   "source": [
    "### SVM"
   ]
  },
  {
   "cell_type": "code",
   "execution_count": 48,
   "metadata": {
    "_uuid": "f1936ece7b76b67e552758a4c80e9421bffe0bc2"
   },
   "outputs": [],
   "source": [
    "from sklearn import svm\n",
    "\n",
    "sv = svm.SVC(kernel='linear')\n",
    "\n",
    "sv.fit(X_train, Y_train)\n",
    "\n",
    "Y_pred_svm = sv.predict(X_test)"
   ]
  },
  {
   "cell_type": "code",
   "execution_count": 49,
   "metadata": {
    "_uuid": "36f60f104264d44760705b9c802504f426e15592"
   },
   "outputs": [
    {
     "data": {
      "text/plain": [
       "(61,)"
      ]
     },
     "execution_count": 49,
     "metadata": {},
     "output_type": "execute_result"
    }
   ],
   "source": [
    "Y_pred_svm.shape"
   ]
  },
  {
   "cell_type": "code",
   "execution_count": 50,
   "metadata": {
    "_uuid": "f5a73bca6721f42b3983c328fd475390ba9bc4d3"
   },
   "outputs": [
    {
     "name": "stdout",
     "output_type": "stream",
     "text": [
      "The accuracy score achieved using Linear SVM is: 81.97 %\n"
     ]
    }
   ],
   "source": [
    "score_svm = round(accuracy_score(Y_pred_svm,Y_test)*100,2)\n",
    "\n",
    "print(\"The accuracy score achieved using Linear SVM is: \"+str(score_svm)+\" %\")"
   ]
  },
  {
   "cell_type": "markdown",
   "metadata": {
    "_uuid": "4e26d165b57f3f7882570964f1c2dc4a548404de"
   },
   "source": [
    "### K Nearest Neighbors"
   ]
  },
  {
   "cell_type": "code",
   "execution_count": 54,
   "metadata": {
    "_uuid": "286352867c53d5fb7dac2fc9bf4b2ac58a466ad0"
   },
   "outputs": [],
   "source": [
    "from sklearn.neighbors import KNeighborsClassifier\n",
    "\n",
    "knn = KNeighborsClassifier(n_neighbors=7)\n",
    "knn.fit(X_train,Y_train)\n",
    "Y_pred_knn=knn.predict(X_test)"
   ]
  },
  {
   "cell_type": "code",
   "execution_count": 55,
   "metadata": {
    "_uuid": "bccb7c1fcec36dd2eb7eb222f49604029adec2b4"
   },
   "outputs": [
    {
     "data": {
      "text/plain": [
       "(61,)"
      ]
     },
     "execution_count": 55,
     "metadata": {},
     "output_type": "execute_result"
    }
   ],
   "source": [
    "Y_pred_knn.shape"
   ]
  },
  {
   "cell_type": "code",
   "execution_count": 56,
   "metadata": {
    "_uuid": "dda4e8f8f18f96557cdd38cee177de0456db5f45"
   },
   "outputs": [
    {
     "name": "stdout",
     "output_type": "stream",
     "text": [
      "The accuracy score achieved using KNN is: 67.21 %\n"
     ]
    }
   ],
   "source": [
    "score_knn = round(accuracy_score(Y_pred_knn,Y_test)*100,2)\n",
    "\n",
    "print(\"The accuracy score achieved using KNN is: \"+str(score_knn)+\" %\")"
   ]
  },
  {
   "cell_type": "markdown",
   "metadata": {
    "_uuid": "abb767170c662e4d9a8b240fd0fd7286ffb0b67f"
   },
   "source": [
    "### Decision Tree"
   ]
  },
  {
   "cell_type": "code",
   "execution_count": 57,
   "metadata": {
    "_uuid": "8c141316764dce80103d1879c9b17d853702a746"
   },
   "outputs": [],
   "source": [
    "from sklearn.tree import DecisionTreeClassifier\n",
    "\n",
    "max_accuracy = 0\n",
    "\n",
    "\n",
    "for x in range(200):\n",
    "    dt = DecisionTreeClassifier(random_state=x)\n",
    "    dt.fit(X_train,Y_train)\n",
    "    Y_pred_dt = dt.predict(X_test)\n",
    "    current_accuracy = round(accuracy_score(Y_pred_dt,Y_test)*100,2)\n",
    "    if(current_accuracy>max_accuracy):\n",
    "        max_accuracy = current_accuracy\n",
    "        best_x = x\n",
    "        \n",
    "#print(max_accuracy)\n",
    "#print(best_x)\n",
    "\n",
    "\n",
    "dt = DecisionTreeClassifier(random_state=best_x)\n",
    "dt.fit(X_train,Y_train)\n",
    "Y_pred_dt = dt.predict(X_test)"
   ]
  },
  {
   "cell_type": "code",
   "execution_count": 58,
   "metadata": {
    "_uuid": "8de0bd2d57abd24d3a97a5b020a24439eb106f2b"
   },
   "outputs": [
    {
     "name": "stdout",
     "output_type": "stream",
     "text": [
      "(61,)\n"
     ]
    }
   ],
   "source": [
    "print(Y_pred_dt.shape)"
   ]
  },
  {
   "cell_type": "code",
   "execution_count": 59,
   "metadata": {
    "_uuid": "52ab93482d3b53824e9bc2b3e4114c57253e0c5b"
   },
   "outputs": [
    {
     "name": "stdout",
     "output_type": "stream",
     "text": [
      "The accuracy score achieved using Decision Tree is: 81.97 %\n"
     ]
    }
   ],
   "source": [
    "score_dt = round(accuracy_score(Y_pred_dt,Y_test)*100,2)\n",
    "\n",
    "print(\"The accuracy score achieved using Decision Tree is: \"+str(score_dt)+\" %\")"
   ]
  },
  {
   "cell_type": "markdown",
   "metadata": {
    "_uuid": "9e663d26efb00a434751f06ad0292949eff6c358"
   },
   "source": [
    "### Random Forest"
   ]
  },
  {
   "cell_type": "code",
   "execution_count": 60,
   "metadata": {
    "_uuid": "8284f5222cf90be1bcd37887c45f91cf22ed1193"
   },
   "outputs": [
    {
     "name": "stderr",
     "output_type": "stream",
     "text": [
      "C:\\Users\\Lenovo\\Anaconda3\\envs\\python-cvcourse\\lib\\site-packages\\sklearn\\ensemble\\weight_boosting.py:29: DeprecationWarning: numpy.core.umath_tests is an internal NumPy module and should not be imported. It will be removed in a future NumPy release.\n",
      "  from numpy.core.umath_tests import inner1d\n"
     ]
    }
   ],
   "source": [
    "from sklearn.ensemble import RandomForestClassifier\n",
    "\n",
    "max_accuracy = 0\n",
    "\n",
    "\n",
    "for x in range(2000):\n",
    "    rf = RandomForestClassifier(random_state=x)\n",
    "    rf.fit(X_train,Y_train)\n",
    "    Y_pred_rf = rf.predict(X_test)\n",
    "    current_accuracy = round(accuracy_score(Y_pred_rf,Y_test)*100,2)\n",
    "    if(current_accuracy>max_accuracy):\n",
    "        max_accuracy = current_accuracy\n",
    "        best_x = x\n",
    "        \n",
    "#print(max_accuracy)\n",
    "#print(best_x)\n",
    "\n",
    "rf = RandomForestClassifier(random_state=best_x)\n",
    "rf.fit(X_train,Y_train)\n",
    "Y_pred_rf = rf.predict(X_test)"
   ]
  },
  {
   "cell_type": "code",
   "execution_count": 61,
   "metadata": {
    "_uuid": "edc8e1cbb57be0aa9e9ad5f4997212d53a9a4c99"
   },
   "outputs": [
    {
     "data": {
      "text/plain": [
       "(61,)"
      ]
     },
     "execution_count": 61,
     "metadata": {},
     "output_type": "execute_result"
    }
   ],
   "source": [
    "Y_pred_rf.shape"
   ]
  },
  {
   "cell_type": "code",
   "execution_count": 62,
   "metadata": {
    "_uuid": "965228f30e05e07e7960a3375dc7dc85b49caed7"
   },
   "outputs": [
    {
     "name": "stdout",
     "output_type": "stream",
     "text": [
      "The accuracy score achieved using Decision Tree is: 95.08 %\n"
     ]
    }
   ],
   "source": [
    "score_rf = round(accuracy_score(Y_pred_rf,Y_test)*100,2)\n",
    "\n",
    "print(\"The accuracy score achieved using Decision Tree is: \"+str(score_rf)+\" %\")"
   ]
  },
  {
   "cell_type": "markdown",
   "metadata": {
    "_uuid": "e224ab23f275a3a56cdba6a9ccfddbd6a4d3b4fd"
   },
   "source": [
    "### Neural Network"
   ]
  },
  {
   "cell_type": "code",
   "execution_count": 63,
   "metadata": {
    "_uuid": "727b391ad6d86468a96e93dc645ade6e2da4048e"
   },
   "outputs": [
    {
     "name": "stderr",
     "output_type": "stream",
     "text": [
      "Using TensorFlow backend.\n"
     ]
    }
   ],
   "source": [
    "from keras.models import Sequential\n",
    "from keras.layers import Dense"
   ]
  },
  {
   "cell_type": "code",
   "execution_count": 64,
   "metadata": {
    "_uuid": "650f1baa7db466923626c707408319fa29f22d10"
   },
   "outputs": [],
   "source": [
    "# https://stats.stackexchange.com/a/136542 helped a lot in avoiding overfitting\n",
    "\n",
    "model = Sequential()\n",
    "model.add(Dense(11,activation='relu',input_dim=13))\n",
    "model.add(Dense(1,activation='sigmoid'))\n",
    "\n",
    "model.compile(loss='binary_crossentropy',optimizer='adam',metrics=['accuracy'])"
   ]
  },
  {
   "cell_type": "code",
   "execution_count": 65,
   "metadata": {
    "_uuid": "dde4e50b5c4c24c73b03133fc7c90bf663fd6d82"
   },
   "outputs": [
    {
     "name": "stdout",
     "output_type": "stream",
     "text": [
      "Epoch 1/300\n",
      "242/242 [==============================] - 1s 2ms/step - loss: 8.6556 - acc: 0.4628\n",
      "Epoch 2/300\n",
      "242/242 [==============================] - 0s 33us/step - loss: 8.6229 - acc: 0.4628\n",
      "Epoch 3/300\n",
      "242/242 [==============================] - 0s 29us/step - loss: 8.5508 - acc: 0.4587\n",
      "Epoch 4/300\n",
      "242/242 [==============================] - 0s 45us/step - loss: 8.4284 - acc: 0.4545\n",
      "Epoch 5/300\n",
      "242/242 [==============================] - 0s 37us/step - loss: 8.2453 - acc: 0.4380\n",
      "Epoch 6/300\n",
      "242/242 [==============================] - 0s 33us/step - loss: 7.9362 - acc: 0.4504\n",
      "Epoch 7/300\n",
      "242/242 [==============================] - 0s 45us/step - loss: 7.7965 - acc: 0.4339\n",
      "Epoch 8/300\n",
      "242/242 [==============================] - 0s 33us/step - loss: 7.5742 - acc: 0.4421\n",
      "Epoch 9/300\n",
      "242/242 [==============================] - 0s 33us/step - loss: 7.1923 - acc: 0.4215\n",
      "Epoch 10/300\n",
      "242/242 [==============================] - 0s 41us/step - loss: 6.0051 - acc: 0.4339\n",
      "Epoch 11/300\n",
      "242/242 [==============================] - 0s 29us/step - loss: 5.4076 - acc: 0.5041\n",
      "Epoch 12/300\n",
      "242/242 [==============================] - 0s 37us/step - loss: 5.3233 - acc: 0.5289\n",
      "Epoch 13/300\n",
      "242/242 [==============================] - 0s 41us/step - loss: 5.2153 - acc: 0.5289\n",
      "Epoch 14/300\n",
      "242/242 [==============================] - 0s 33us/step - loss: 5.1005 - acc: 0.5289\n",
      "Epoch 15/300\n",
      "242/242 [==============================] - 0s 37us/step - loss: 5.0450 - acc: 0.4917\n",
      "Epoch 16/300\n",
      "242/242 [==============================] - 0s 41us/step - loss: 4.9368 - acc: 0.4959\n",
      "Epoch 17/300\n",
      "242/242 [==============================] - 0s 33us/step - loss: 4.8772 - acc: 0.5165\n",
      "Epoch 18/300\n",
      "242/242 [==============================] - 0s 41us/step - loss: 4.7705 - acc: 0.5289\n",
      "Epoch 19/300\n",
      "242/242 [==============================] - 0s 33us/step - loss: 4.7048 - acc: 0.5331\n",
      "Epoch 20/300\n",
      "242/242 [==============================] - 0s 41us/step - loss: 4.5675 - acc: 0.5248\n",
      "Epoch 21/300\n",
      "242/242 [==============================] - 0s 54us/step - loss: 4.4782 - acc: 0.5165\n",
      "Epoch 22/300\n",
      "242/242 [==============================] - 0s 37us/step - loss: 4.3591 - acc: 0.5207\n",
      "Epoch 23/300\n",
      "242/242 [==============================] - 0s 33us/step - loss: 4.2255 - acc: 0.5207\n",
      "Epoch 24/300\n",
      "242/242 [==============================] - 0s 45us/step - loss: 4.0867 - acc: 0.5289\n",
      "Epoch 25/300\n",
      "242/242 [==============================] - 0s 33us/step - loss: 3.9233 - acc: 0.5289\n",
      "Epoch 26/300\n",
      "242/242 [==============================] - 0s 33us/step - loss: 3.8453 - acc: 0.5000\n",
      "Epoch 27/300\n",
      "242/242 [==============================] - 0s 41us/step - loss: 3.6321 - acc: 0.5248\n",
      "Epoch 28/300\n",
      "242/242 [==============================] - 0s 33us/step - loss: 3.4617 - acc: 0.5455\n",
      "Epoch 29/300\n",
      "242/242 [==============================] - 0s 29us/step - loss: 3.3003 - acc: 0.5579\n",
      "Epoch 30/300\n",
      "242/242 [==============================] - 0s 37us/step - loss: 3.1216 - acc: 0.5496\n",
      "Epoch 31/300\n",
      "242/242 [==============================] - 0s 33us/step - loss: 2.9380 - acc: 0.5537\n",
      "Epoch 32/300\n",
      "242/242 [==============================] - 0s 33us/step - loss: 2.7629 - acc: 0.5661\n",
      "Epoch 33/300\n",
      "242/242 [==============================] - 0s 41us/step - loss: 2.6044 - acc: 0.5661\n",
      "Epoch 34/300\n",
      "242/242 [==============================] - 0s 33us/step - loss: 2.4016 - acc: 0.5868\n",
      "Epoch 35/300\n",
      "242/242 [==============================] - 0s 33us/step - loss: 2.2469 - acc: 0.5785\n",
      "Epoch 36/300\n",
      "242/242 [==============================] - 0s 41us/step - loss: 2.0860 - acc: 0.5909\n",
      "Epoch 37/300\n",
      "242/242 [==============================] - 0s 33us/step - loss: 1.9249 - acc: 0.6198\n",
      "Epoch 38/300\n",
      "242/242 [==============================] - 0s 33us/step - loss: 1.8229 - acc: 0.6281\n",
      "Epoch 39/300\n",
      "242/242 [==============================] - 0s 41us/step - loss: 1.6986 - acc: 0.6405\n",
      "Epoch 40/300\n",
      "242/242 [==============================] - 0s 37us/step - loss: 1.6000 - acc: 0.6488\n",
      "Epoch 41/300\n",
      "242/242 [==============================] - 0s 33us/step - loss: 1.5189 - acc: 0.6529\n",
      "Epoch 42/300\n",
      "242/242 [==============================] - 0s 41us/step - loss: 1.4303 - acc: 0.6694\n",
      "Epoch 43/300\n",
      "242/242 [==============================] - 0s 33us/step - loss: 1.3249 - acc: 0.6694\n",
      "Epoch 44/300\n",
      "242/242 [==============================] - 0s 33us/step - loss: 1.3001 - acc: 0.6818\n",
      "Epoch 45/300\n",
      "242/242 [==============================] - 0s 41us/step - loss: 1.2379 - acc: 0.6818\n",
      "Epoch 46/300\n",
      "242/242 [==============================] - 0s 33us/step - loss: 1.1861 - acc: 0.7107\n",
      "Epoch 47/300\n",
      "242/242 [==============================] - 0s 33us/step - loss: 1.1207 - acc: 0.7066\n",
      "Epoch 48/300\n",
      "242/242 [==============================] - 0s 33us/step - loss: 1.1109 - acc: 0.6901\n",
      "Epoch 49/300\n",
      "242/242 [==============================] - 0s 37us/step - loss: 1.0587 - acc: 0.7314\n",
      "Epoch 50/300\n",
      "242/242 [==============================] - 0s 33us/step - loss: 1.0135 - acc: 0.7149\n",
      "Epoch 51/300\n",
      "242/242 [==============================] - 0s 33us/step - loss: 0.9933 - acc: 0.7273\n",
      "Epoch 52/300\n",
      "242/242 [==============================] - 0s 41us/step - loss: 0.9841 - acc: 0.7314\n",
      "Epoch 53/300\n",
      "242/242 [==============================] - 0s 33us/step - loss: 0.9523 - acc: 0.7355\n",
      "Epoch 54/300\n",
      "242/242 [==============================] - 0s 33us/step - loss: 0.9170 - acc: 0.7190\n",
      "Epoch 55/300\n",
      "242/242 [==============================] - 0s 33us/step - loss: 0.9124 - acc: 0.7355\n",
      "Epoch 56/300\n",
      "242/242 [==============================] - 0s 37us/step - loss: 0.8839 - acc: 0.7397\n",
      "Epoch 57/300\n",
      "242/242 [==============================] - 0s 29us/step - loss: 0.8577 - acc: 0.7397\n",
      "Epoch 58/300\n",
      "242/242 [==============================] - 0s 37us/step - loss: 0.8534 - acc: 0.7355\n",
      "Epoch 59/300\n",
      "242/242 [==============================] - 0s 41us/step - loss: 0.8346 - acc: 0.7479\n",
      "Epoch 60/300\n",
      "242/242 [==============================] - 0s 33us/step - loss: 0.8080 - acc: 0.7521\n",
      "Epoch 61/300\n",
      "242/242 [==============================] - 0s 33us/step - loss: 0.8055 - acc: 0.7273\n",
      "Epoch 62/300\n",
      "242/242 [==============================] - 0s 41us/step - loss: 0.7682 - acc: 0.7479\n",
      "Epoch 63/300\n",
      "242/242 [==============================] - 0s 37us/step - loss: 0.7815 - acc: 0.7645\n",
      "Epoch 64/300\n",
      "242/242 [==============================] - 0s 33us/step - loss: 0.7560 - acc: 0.7355\n",
      "Epoch 65/300\n",
      "242/242 [==============================] - 0s 33us/step - loss: 0.7480 - acc: 0.7521\n",
      "Epoch 66/300\n",
      "242/242 [==============================] - 0s 41us/step - loss: 0.7549 - acc: 0.7314\n",
      "Epoch 67/300\n",
      "242/242 [==============================] - 0s 33us/step - loss: 0.7210 - acc: 0.7603\n",
      "Epoch 68/300\n",
      "242/242 [==============================] - 0s 33us/step - loss: 0.7231 - acc: 0.7355\n",
      "Epoch 69/300\n",
      "242/242 [==============================] - 0s 45us/step - loss: 0.6909 - acc: 0.7521\n",
      "Epoch 70/300\n",
      "242/242 [==============================] - 0s 33us/step - loss: 0.6714 - acc: 0.7603\n",
      "Epoch 71/300\n",
      "242/242 [==============================] - 0s 33us/step - loss: 0.6638 - acc: 0.7562\n",
      "Epoch 72/300\n",
      "242/242 [==============================] - 0s 37us/step - loss: 0.6504 - acc: 0.7562\n",
      "Epoch 73/300\n",
      "242/242 [==============================] - 0s 33us/step - loss: 0.6411 - acc: 0.7521\n",
      "Epoch 74/300\n",
      "242/242 [==============================] - 0s 33us/step - loss: 0.6617 - acc: 0.7645\n",
      "Epoch 75/300\n",
      "242/242 [==============================] - 0s 33us/step - loss: 0.6048 - acc: 0.7562\n",
      "Epoch 76/300\n",
      "242/242 [==============================] - 0s 41us/step - loss: 0.6217 - acc: 0.7645\n",
      "Epoch 77/300\n",
      "242/242 [==============================] - 0s 33us/step - loss: 0.5980 - acc: 0.7645\n",
      "Epoch 78/300\n",
      "242/242 [==============================] - 0s 33us/step - loss: 0.5827 - acc: 0.7686\n",
      "Epoch 79/300\n",
      "242/242 [==============================] - 0s 41us/step - loss: 0.5871 - acc: 0.7521\n",
      "Epoch 80/300\n",
      "242/242 [==============================] - 0s 33us/step - loss: 0.5755 - acc: 0.7686\n",
      "Epoch 81/300\n",
      "242/242 [==============================] - 0s 29us/step - loss: 0.5525 - acc: 0.7769\n",
      "Epoch 82/300\n",
      "242/242 [==============================] - 0s 33us/step - loss: 0.5568 - acc: 0.7603\n",
      "Epoch 83/300\n",
      "242/242 [==============================] - 0s 41us/step - loss: 0.5328 - acc: 0.7769\n",
      "Epoch 84/300\n",
      "242/242 [==============================] - 0s 37us/step - loss: 0.5316 - acc: 0.7851\n",
      "Epoch 85/300\n",
      "242/242 [==============================] - 0s 33us/step - loss: 0.5249 - acc: 0.7686\n",
      "Epoch 86/300\n",
      "242/242 [==============================] - 0s 33us/step - loss: 0.5559 - acc: 0.7603\n",
      "Epoch 87/300\n",
      "242/242 [==============================] - 0s 41us/step - loss: 0.5134 - acc: 0.7810\n",
      "Epoch 88/300\n",
      "242/242 [==============================] - 0s 33us/step - loss: 0.4996 - acc: 0.7893\n",
      "Epoch 89/300\n",
      "242/242 [==============================] - 0s 33us/step - loss: 0.5025 - acc: 0.7727\n",
      "Epoch 90/300\n",
      "242/242 [==============================] - 0s 33us/step - loss: 0.5115 - acc: 0.7769\n",
      "Epoch 91/300\n",
      "242/242 [==============================] - 0s 41us/step - loss: 0.5001 - acc: 0.7810\n",
      "Epoch 92/300\n",
      "242/242 [==============================] - 0s 33us/step - loss: 0.5130 - acc: 0.7562\n",
      "Epoch 93/300\n",
      "242/242 [==============================] - 0s 33us/step - loss: 0.4845 - acc: 0.7769\n",
      "Epoch 94/300\n",
      "242/242 [==============================] - 0s 29us/step - loss: 0.4627 - acc: 0.7851\n",
      "Epoch 95/300\n",
      "242/242 [==============================] - 0s 41us/step - loss: 0.4657 - acc: 0.7810\n",
      "Epoch 96/300\n",
      "242/242 [==============================] - 0s 33us/step - loss: 0.4578 - acc: 0.7934\n",
      "Epoch 97/300\n",
      "242/242 [==============================] - 0s 33us/step - loss: 0.4775 - acc: 0.7603\n",
      "Epoch 98/300\n",
      "242/242 [==============================] - 0s 29us/step - loss: 0.4684 - acc: 0.7810\n",
      "Epoch 99/300\n",
      "242/242 [==============================] - 0s 41us/step - loss: 0.4649 - acc: 0.8017\n",
      "Epoch 100/300\n",
      "242/242 [==============================] - 0s 37us/step - loss: 0.4542 - acc: 0.7893\n",
      "Epoch 101/300\n",
      "242/242 [==============================] - 0s 33us/step - loss: 0.4377 - acc: 0.7975\n",
      "Epoch 102/300\n",
      "242/242 [==============================] - 0s 33us/step - loss: 0.4339 - acc: 0.7975\n",
      "Epoch 103/300\n",
      "242/242 [==============================] - 0s 37us/step - loss: 0.4406 - acc: 0.7893\n",
      "Epoch 104/300\n",
      "242/242 [==============================] - 0s 41us/step - loss: 0.4269 - acc: 0.8099\n",
      "Epoch 105/300\n",
      "242/242 [==============================] - 0s 33us/step - loss: 0.4360 - acc: 0.7810\n",
      "Epoch 106/300\n",
      "242/242 [==============================] - 0s 33us/step - loss: 0.4543 - acc: 0.8058\n",
      "Epoch 107/300\n",
      "242/242 [==============================] - 0s 33us/step - loss: 0.4380 - acc: 0.7769\n",
      "Epoch 108/300\n",
      "242/242 [==============================] - 0s 41us/step - loss: 0.4126 - acc: 0.8182\n",
      "Epoch 109/300\n",
      "242/242 [==============================] - 0s 37us/step - loss: 0.4141 - acc: 0.7893\n",
      "Epoch 110/300\n",
      "242/242 [==============================] - 0s 33us/step - loss: 0.4413 - acc: 0.7851\n",
      "Epoch 111/300\n",
      "242/242 [==============================] - 0s 45us/step - loss: 0.4320 - acc: 0.7975\n",
      "Epoch 112/300\n",
      "242/242 [==============================] - 0s 29us/step - loss: 0.4316 - acc: 0.8223\n",
      "Epoch 113/300\n",
      "242/242 [==============================] - 0s 33us/step - loss: 0.4189 - acc: 0.8099\n",
      "Epoch 114/300\n",
      "242/242 [==============================] - 0s 29us/step - loss: 0.4092 - acc: 0.7934\n",
      "Epoch 115/300\n",
      "242/242 [==============================] - 0s 37us/step - loss: 0.4090 - acc: 0.8099\n",
      "Epoch 116/300\n",
      "242/242 [==============================] - 0s 41us/step - loss: 0.4087 - acc: 0.8058\n",
      "Epoch 117/300\n",
      "242/242 [==============================] - 0s 29us/step - loss: 0.4268 - acc: 0.8017\n",
      "Epoch 118/300\n",
      "242/242 [==============================] - 0s 33us/step - loss: 0.4259 - acc: 0.7975\n",
      "Epoch 119/300\n",
      "242/242 [==============================] - 0s 29us/step - loss: 0.4065 - acc: 0.8140\n",
      "Epoch 120/300\n",
      "242/242 [==============================] - 0s 41us/step - loss: 0.4425 - acc: 0.7603\n",
      "Epoch 121/300\n",
      "242/242 [==============================] - 0s 45us/step - loss: 0.4216 - acc: 0.8223\n",
      "Epoch 122/300\n",
      "242/242 [==============================] - 0s 33us/step - loss: 0.4302 - acc: 0.7934\n",
      "Epoch 123/300\n",
      "242/242 [==============================] - 0s 33us/step - loss: 0.4178 - acc: 0.7934\n",
      "Epoch 124/300\n",
      "242/242 [==============================] - 0s 33us/step - loss: 0.4497 - acc: 0.8140\n",
      "Epoch 125/300\n",
      "242/242 [==============================] - 0s 45us/step - loss: 0.4798 - acc: 0.7810\n",
      "Epoch 126/300\n",
      "242/242 [==============================] - 0s 37us/step - loss: 0.4234 - acc: 0.8017\n",
      "Epoch 127/300\n",
      "242/242 [==============================] - 0s 41us/step - loss: 0.4211 - acc: 0.8058\n",
      "Epoch 128/300\n",
      "242/242 [==============================] - 0s 37us/step - loss: 0.4662 - acc: 0.7355\n",
      "Epoch 129/300\n",
      "242/242 [==============================] - 0s 37us/step - loss: 0.4298 - acc: 0.7851\n",
      "Epoch 130/300\n",
      "242/242 [==============================] - 0s 33us/step - loss: 0.4177 - acc: 0.8140\n",
      "Epoch 131/300\n",
      "242/242 [==============================] - 0s 33us/step - loss: 0.4112 - acc: 0.8099\n",
      "Epoch 132/300\n",
      "242/242 [==============================] - 0s 41us/step - loss: 0.4317 - acc: 0.8140\n",
      "Epoch 133/300\n",
      "242/242 [==============================] - 0s 37us/step - loss: 0.3942 - acc: 0.8223\n",
      "Epoch 134/300\n",
      "242/242 [==============================] - 0s 33us/step - loss: 0.4016 - acc: 0.8058\n",
      "Epoch 135/300\n",
      "242/242 [==============================] - 0s 33us/step - loss: 0.3930 - acc: 0.8264\n",
      "Epoch 136/300\n",
      "242/242 [==============================] - 0s 33us/step - loss: 0.4006 - acc: 0.8182\n",
      "Epoch 137/300\n",
      "242/242 [==============================] - 0s 33us/step - loss: 0.4045 - acc: 0.8140\n",
      "Epoch 138/300\n",
      "242/242 [==============================] - 0s 29us/step - loss: 0.3917 - acc: 0.8223\n",
      "Epoch 139/300\n",
      "242/242 [==============================] - 0s 45us/step - loss: 0.3943 - acc: 0.8347\n",
      "Epoch 140/300\n",
      "242/242 [==============================] - 0s 37us/step - loss: 0.3858 - acc: 0.8388\n",
      "Epoch 141/300\n",
      "242/242 [==============================] - 0s 33us/step - loss: 0.3878 - acc: 0.8182\n",
      "Epoch 142/300\n",
      "242/242 [==============================] - 0s 37us/step - loss: 0.3898 - acc: 0.8306\n",
      "Epoch 143/300\n",
      "242/242 [==============================] - 0s 29us/step - loss: 0.3877 - acc: 0.8264\n",
      "Epoch 144/300\n",
      "242/242 [==============================] - 0s 33us/step - loss: 0.3969 - acc: 0.8264\n",
      "Epoch 145/300\n",
      "242/242 [==============================] - 0s 45us/step - loss: 0.3872 - acc: 0.8264\n",
      "Epoch 146/300\n",
      "242/242 [==============================] - 0s 33us/step - loss: 0.3931 - acc: 0.8223\n",
      "Epoch 147/300\n",
      "242/242 [==============================] - 0s 37us/step - loss: 0.3998 - acc: 0.8388\n",
      "Epoch 148/300\n",
      "242/242 [==============================] - 0s 33us/step - loss: 0.4033 - acc: 0.8264\n",
      "Epoch 149/300\n",
      "242/242 [==============================] - 0s 41us/step - loss: 0.4002 - acc: 0.8471\n",
      "Epoch 150/300\n",
      "242/242 [==============================] - 0s 37us/step - loss: 0.3883 - acc: 0.8347\n",
      "Epoch 151/300\n",
      "242/242 [==============================] - 0s 33us/step - loss: 0.3799 - acc: 0.8430\n",
      "Epoch 152/300\n",
      "242/242 [==============================] - 0s 41us/step - loss: 0.3817 - acc: 0.8223\n",
      "Epoch 153/300\n",
      "242/242 [==============================] - 0s 33us/step - loss: 0.3987 - acc: 0.8306\n",
      "Epoch 154/300\n",
      "242/242 [==============================] - 0s 37us/step - loss: 0.3877 - acc: 0.8471\n",
      "Epoch 155/300\n",
      "242/242 [==============================] - 0s 37us/step - loss: 0.4030 - acc: 0.8347\n",
      "Epoch 156/300\n",
      "242/242 [==============================] - 0s 33us/step - loss: 0.3997 - acc: 0.8347\n",
      "Epoch 157/300\n",
      "242/242 [==============================] - 0s 41us/step - loss: 0.4657 - acc: 0.7893\n",
      "Epoch 158/300\n",
      "242/242 [==============================] - 0s 33us/step - loss: 0.4384 - acc: 0.7975\n",
      "Epoch 159/300\n",
      "242/242 [==============================] - 0s 37us/step - loss: 0.4036 - acc: 0.8182\n",
      "Epoch 160/300\n",
      "242/242 [==============================] - 0s 33us/step - loss: 0.3884 - acc: 0.8306\n",
      "Epoch 161/300\n",
      "242/242 [==============================] - 0s 33us/step - loss: 0.3892 - acc: 0.8347\n",
      "Epoch 162/300\n",
      "242/242 [==============================] - 0s 37us/step - loss: 0.3834 - acc: 0.8306\n",
      "Epoch 163/300\n",
      "242/242 [==============================] - 0s 37us/step - loss: 0.3920 - acc: 0.8264\n",
      "Epoch 164/300\n",
      "242/242 [==============================] - 0s 33us/step - loss: 0.3844 - acc: 0.8347\n",
      "Epoch 165/300\n",
      "242/242 [==============================] - 0s 33us/step - loss: 0.3953 - acc: 0.8306\n",
      "Epoch 166/300\n",
      "242/242 [==============================] - 0s 33us/step - loss: 0.3897 - acc: 0.8347\n",
      "Epoch 167/300\n",
      "242/242 [==============================] - 0s 33us/step - loss: 0.3876 - acc: 0.8264\n",
      "Epoch 168/300\n",
      "242/242 [==============================] - 0s 41us/step - loss: 0.3965 - acc: 0.8306\n",
      "Epoch 169/300\n",
      "242/242 [==============================] - 0s 33us/step - loss: 0.3898 - acc: 0.8388\n",
      "Epoch 170/300\n",
      "242/242 [==============================] - 0s 29us/step - loss: 0.3770 - acc: 0.8306\n",
      "Epoch 171/300\n",
      "242/242 [==============================] - 0s 37us/step - loss: 0.3966 - acc: 0.8140\n",
      "Epoch 172/300\n",
      "242/242 [==============================] - 0s 33us/step - loss: 0.3857 - acc: 0.8347\n",
      "Epoch 173/300\n",
      "242/242 [==============================] - 0s 29us/step - loss: 0.3912 - acc: 0.8223\n",
      "Epoch 174/300\n",
      "242/242 [==============================] - 0s 33us/step - loss: 0.4016 - acc: 0.8430\n",
      "Epoch 175/300\n",
      "242/242 [==============================] - 0s 29us/step - loss: 0.4061 - acc: 0.8306\n",
      "Epoch 176/300\n",
      "242/242 [==============================] - 0s 41us/step - loss: 0.3793 - acc: 0.8430\n",
      "Epoch 177/300\n",
      "242/242 [==============================] - 0s 33us/step - loss: 0.3898 - acc: 0.8306\n",
      "Epoch 178/300\n",
      "242/242 [==============================] - 0s 33us/step - loss: 0.4054 - acc: 0.8140\n",
      "Epoch 179/300\n",
      "242/242 [==============================] - 0s 29us/step - loss: 0.4091 - acc: 0.8223\n",
      "Epoch 180/300\n",
      "242/242 [==============================] - 0s 33us/step - loss: 0.4040 - acc: 0.7934\n",
      "Epoch 181/300\n",
      "242/242 [==============================] - 0s 29us/step - loss: 0.4023 - acc: 0.8099\n",
      "Epoch 182/300\n",
      "242/242 [==============================] - 0s 33us/step - loss: 0.3750 - acc: 0.8512\n",
      "Epoch 183/300\n",
      "242/242 [==============================] - 0s 33us/step - loss: 0.3751 - acc: 0.8430\n",
      "Epoch 184/300\n",
      "242/242 [==============================] - 0s 41us/step - loss: 0.3738 - acc: 0.8512\n",
      "Epoch 185/300\n",
      "242/242 [==============================] - 0s 33us/step - loss: 0.3732 - acc: 0.8430\n",
      "Epoch 186/300\n",
      "242/242 [==============================] - 0s 33us/step - loss: 0.3766 - acc: 0.8471\n",
      "Epoch 187/300\n",
      "242/242 [==============================] - 0s 29us/step - loss: 0.3749 - acc: 0.8388\n",
      "Epoch 188/300\n",
      "242/242 [==============================] - 0s 33us/step - loss: 0.3723 - acc: 0.8554\n",
      "Epoch 189/300\n",
      "242/242 [==============================] - 0s 33us/step - loss: 0.3768 - acc: 0.8388\n",
      "Epoch 190/300\n",
      "242/242 [==============================] - 0s 37us/step - loss: 0.4029 - acc: 0.8223\n",
      "Epoch 191/300\n",
      "242/242 [==============================] - 0s 37us/step - loss: 0.3936 - acc: 0.8264\n",
      "Epoch 192/300\n",
      "242/242 [==============================] - 0s 37us/step - loss: 0.4196 - acc: 0.8058\n",
      "Epoch 193/300\n",
      "242/242 [==============================] - 0s 45us/step - loss: 0.4192 - acc: 0.7810\n",
      "Epoch 194/300\n",
      "242/242 [==============================] - 0s 37us/step - loss: 0.3828 - acc: 0.8388\n",
      "Epoch 195/300\n",
      "242/242 [==============================] - 0s 29us/step - loss: 0.3790 - acc: 0.8347\n",
      "Epoch 196/300\n",
      "242/242 [==============================] - 0s 41us/step - loss: 0.3769 - acc: 0.8471\n",
      "Epoch 197/300\n",
      "242/242 [==============================] - 0s 33us/step - loss: 0.3712 - acc: 0.8471\n",
      "Epoch 198/300\n",
      "242/242 [==============================] - 0s 45us/step - loss: 0.3724 - acc: 0.8512\n",
      "Epoch 199/300\n",
      "242/242 [==============================] - 0s 41us/step - loss: 0.3721 - acc: 0.8471\n",
      "Epoch 200/300\n",
      "242/242 [==============================] - 0s 29us/step - loss: 0.3836 - acc: 0.8264\n",
      "Epoch 201/300\n",
      "242/242 [==============================] - 0s 41us/step - loss: 0.3814 - acc: 0.8471\n",
      "Epoch 202/300\n",
      "242/242 [==============================] - 0s 33us/step - loss: 0.3768 - acc: 0.8430\n",
      "Epoch 203/300\n",
      "242/242 [==============================] - 0s 41us/step - loss: 0.3956 - acc: 0.8347\n",
      "Epoch 204/300\n",
      "242/242 [==============================] - 0s 33us/step - loss: 0.4081 - acc: 0.7851\n",
      "Epoch 205/300\n",
      "242/242 [==============================] - 0s 33us/step - loss: 0.3937 - acc: 0.8182\n",
      "Epoch 206/300\n",
      "242/242 [==============================] - 0s 37us/step - loss: 0.4276 - acc: 0.7851\n",
      "Epoch 207/300\n",
      "242/242 [==============================] - 0s 29us/step - loss: 0.4020 - acc: 0.8140\n",
      "Epoch 208/300\n",
      "242/242 [==============================] - 0s 49us/step - loss: 0.4082 - acc: 0.8223\n",
      "Epoch 209/300\n",
      "242/242 [==============================] - 0s 41us/step - loss: 0.3773 - acc: 0.8347\n",
      "Epoch 210/300\n",
      "242/242 [==============================] - 0s 33us/step - loss: 0.3859 - acc: 0.8223\n",
      "Epoch 211/300\n",
      "242/242 [==============================] - 0s 37us/step - loss: 0.4150 - acc: 0.8223\n",
      "Epoch 212/300\n",
      "242/242 [==============================] - 0s 33us/step - loss: 0.3981 - acc: 0.8264\n",
      "Epoch 213/300\n",
      "242/242 [==============================] - 0s 33us/step - loss: 0.3743 - acc: 0.8430\n",
      "Epoch 214/300\n",
      "242/242 [==============================] - 0s 37us/step - loss: 0.3719 - acc: 0.8471\n",
      "Epoch 215/300\n",
      "242/242 [==============================] - 0s 29us/step - loss: 0.3778 - acc: 0.8471\n",
      "Epoch 216/300\n",
      "242/242 [==============================] - 0s 37us/step - loss: 0.3764 - acc: 0.8264\n",
      "Epoch 217/300\n",
      "242/242 [==============================] - 0s 37us/step - loss: 0.3770 - acc: 0.8264\n",
      "Epoch 218/300\n",
      "242/242 [==============================] - 0s 41us/step - loss: 0.3763 - acc: 0.8306\n",
      "Epoch 219/300\n",
      "242/242 [==============================] - 0s 33us/step - loss: 0.3854 - acc: 0.7975\n",
      "Epoch 220/300\n",
      "242/242 [==============================] - 0s 33us/step - loss: 0.3864 - acc: 0.8347\n",
      "Epoch 221/300\n",
      "242/242 [==============================] - 0s 37us/step - loss: 0.3702 - acc: 0.8430\n",
      "Epoch 222/300\n",
      "242/242 [==============================] - 0s 29us/step - loss: 0.3682 - acc: 0.8636\n",
      "Epoch 223/300\n",
      "242/242 [==============================] - 0s 45us/step - loss: 0.3798 - acc: 0.8264\n",
      "Epoch 224/300\n",
      "242/242 [==============================] - 0s 41us/step - loss: 0.3811 - acc: 0.8223\n",
      "Epoch 225/300\n",
      "242/242 [==============================] - 0s 29us/step - loss: 0.3728 - acc: 0.8347\n",
      "Epoch 226/300\n",
      "242/242 [==============================] - 0s 33us/step - loss: 0.3720 - acc: 0.8347\n",
      "Epoch 227/300\n",
      "242/242 [==============================] - 0s 33us/step - loss: 0.3995 - acc: 0.8264\n",
      "Epoch 228/300\n",
      "242/242 [==============================] - 0s 33us/step - loss: 0.3965 - acc: 0.8223\n",
      "Epoch 229/300\n",
      "242/242 [==============================] - 0s 41us/step - loss: 0.3756 - acc: 0.8388\n",
      "Epoch 230/300\n",
      "242/242 [==============================] - 0s 33us/step - loss: 0.3927 - acc: 0.8347\n",
      "Epoch 231/300\n",
      "242/242 [==============================] - 0s 29us/step - loss: 0.3765 - acc: 0.8388\n",
      "Epoch 232/300\n",
      "242/242 [==============================] - 0s 33us/step - loss: 0.3689 - acc: 0.8388\n",
      "Epoch 233/300\n",
      "242/242 [==============================] - 0s 37us/step - loss: 0.3677 - acc: 0.8512\n",
      "Epoch 234/300\n",
      "242/242 [==============================] - 0s 37us/step - loss: 0.3730 - acc: 0.8430\n",
      "Epoch 235/300\n",
      "242/242 [==============================] - 0s 41us/step - loss: 0.3737 - acc: 0.8471\n",
      "Epoch 236/300\n",
      "242/242 [==============================] - 0s 41us/step - loss: 0.3736 - acc: 0.8347\n",
      "Epoch 237/300\n",
      "242/242 [==============================] - 0s 33us/step - loss: 0.3707 - acc: 0.8430\n",
      "Epoch 238/300\n",
      "242/242 [==============================] - 0s 33us/step - loss: 0.3789 - acc: 0.8471\n",
      "Epoch 239/300\n",
      "242/242 [==============================] - 0s 29us/step - loss: 0.3868 - acc: 0.8388\n",
      "Epoch 240/300\n",
      "242/242 [==============================] - 0s 33us/step - loss: 0.3668 - acc: 0.8471\n",
      "Epoch 241/300\n",
      "242/242 [==============================] - 0s 33us/step - loss: 0.3693 - acc: 0.8430\n",
      "Epoch 242/300\n",
      "242/242 [==============================] - 0s 33us/step - loss: 0.3713 - acc: 0.8430\n",
      "Epoch 243/300\n",
      "242/242 [==============================] - 0s 29us/step - loss: 0.3878 - acc: 0.8140\n",
      "Epoch 244/300\n",
      "242/242 [==============================] - 0s 33us/step - loss: 0.3862 - acc: 0.8264\n",
      "Epoch 245/300\n",
      "242/242 [==============================] - 0s 33us/step - loss: 0.3698 - acc: 0.8471\n",
      "Epoch 246/300\n",
      "242/242 [==============================] - 0s 37us/step - loss: 0.3666 - acc: 0.8554\n",
      "Epoch 247/300\n",
      "242/242 [==============================] - 0s 33us/step - loss: 0.3675 - acc: 0.8388\n",
      "Epoch 248/300\n",
      "242/242 [==============================] - 0s 33us/step - loss: 0.3688 - acc: 0.8347\n",
      "Epoch 249/300\n",
      "242/242 [==============================] - 0s 29us/step - loss: 0.3665 - acc: 0.8512\n",
      "Epoch 250/300\n",
      "242/242 [==============================] - 0s 33us/step - loss: 0.3691 - acc: 0.8347\n",
      "Epoch 251/300\n",
      "242/242 [==============================] - 0s 37us/step - loss: 0.3807 - acc: 0.8347\n",
      "Epoch 252/300\n",
      "242/242 [==============================] - 0s 33us/step - loss: 0.3879 - acc: 0.8430\n",
      "Epoch 253/300\n",
      "242/242 [==============================] - 0s 33us/step - loss: 0.3676 - acc: 0.8471\n",
      "Epoch 254/300\n",
      "242/242 [==============================] - 0s 29us/step - loss: 0.3726 - acc: 0.8512\n",
      "Epoch 255/300\n",
      "242/242 [==============================] - 0s 41us/step - loss: 0.3676 - acc: 0.8388\n",
      "Epoch 256/300\n",
      "242/242 [==============================] - 0s 37us/step - loss: 0.3734 - acc: 0.8554\n",
      "Epoch 257/300\n",
      "242/242 [==============================] - 0s 82us/step - loss: 0.3671 - acc: 0.8471\n",
      "Epoch 258/300\n",
      "242/242 [==============================] - 0s 37us/step - loss: 0.3657 - acc: 0.8512\n",
      "Epoch 259/300\n",
      "242/242 [==============================] - 0s 37us/step - loss: 0.3731 - acc: 0.8636\n",
      "Epoch 260/300\n",
      "242/242 [==============================] - 0s 41us/step - loss: 0.4041 - acc: 0.8140\n",
      "Epoch 261/300\n",
      "242/242 [==============================] - 0s 29us/step - loss: 0.3854 - acc: 0.8388\n",
      "Epoch 262/300\n",
      "242/242 [==============================] - 0s 41us/step - loss: 0.3703 - acc: 0.8554\n",
      "Epoch 263/300\n",
      "242/242 [==============================] - 0s 29us/step - loss: 0.3690 - acc: 0.8471\n",
      "Epoch 264/300\n",
      "242/242 [==============================] - 0s 45us/step - loss: 0.3677 - acc: 0.8430\n",
      "Epoch 265/300\n",
      "242/242 [==============================] - 0s 41us/step - loss: 0.3702 - acc: 0.8388\n",
      "Epoch 266/300\n",
      "242/242 [==============================] - 0s 33us/step - loss: 0.3711 - acc: 0.8264\n",
      "Epoch 267/300\n",
      "242/242 [==============================] - 0s 45us/step - loss: 0.3773 - acc: 0.8306\n",
      "Epoch 268/300\n",
      "242/242 [==============================] - 0s 41us/step - loss: 0.3706 - acc: 0.8347\n",
      "Epoch 269/300\n",
      "242/242 [==============================] - 0s 33us/step - loss: 0.3664 - acc: 0.8430\n",
      "Epoch 270/300\n",
      "242/242 [==============================] - 0s 33us/step - loss: 0.3652 - acc: 0.8347\n",
      "Epoch 271/300\n",
      "242/242 [==============================] - 0s 33us/step - loss: 0.3639 - acc: 0.8512\n",
      "Epoch 272/300\n",
      "242/242 [==============================] - 0s 37us/step - loss: 0.3755 - acc: 0.8471\n",
      "Epoch 273/300\n",
      "242/242 [==============================] - 0s 37us/step - loss: 0.3688 - acc: 0.8595\n",
      "Epoch 274/300\n",
      "242/242 [==============================] - 0s 37us/step - loss: 0.3652 - acc: 0.8471\n",
      "Epoch 275/300\n",
      "242/242 [==============================] - 0s 37us/step - loss: 0.3722 - acc: 0.8388\n",
      "Epoch 276/300\n",
      "242/242 [==============================] - 0s 33us/step - loss: 0.3629 - acc: 0.8388\n",
      "Epoch 277/300\n",
      "242/242 [==============================] - 0s 33us/step - loss: 0.3805 - acc: 0.8223\n",
      "Epoch 278/300\n",
      "242/242 [==============================] - 0s 33us/step - loss: 0.3691 - acc: 0.8306\n",
      "Epoch 279/300\n",
      "242/242 [==============================] - 0s 29us/step - loss: 0.3719 - acc: 0.8595\n",
      "Epoch 280/300\n",
      "242/242 [==============================] - 0s 29us/step - loss: 0.3670 - acc: 0.8347\n",
      "Epoch 281/300\n",
      "242/242 [==============================] - 0s 33us/step - loss: 0.3734 - acc: 0.8306\n",
      "Epoch 282/300\n",
      "242/242 [==============================] - 0s 33us/step - loss: 0.3941 - acc: 0.8306\n",
      "Epoch 283/300\n",
      "242/242 [==============================] - 0s 33us/step - loss: 0.3657 - acc: 0.8430\n",
      "Epoch 284/300\n",
      "242/242 [==============================] - 0s 41us/step - loss: 0.3748 - acc: 0.8388\n",
      "Epoch 285/300\n",
      "242/242 [==============================] - 0s 33us/step - loss: 0.3624 - acc: 0.8430\n",
      "Epoch 286/300\n",
      "242/242 [==============================] - 0s 33us/step - loss: 0.3635 - acc: 0.8512\n",
      "Epoch 287/300\n",
      "242/242 [==============================] - 0s 37us/step - loss: 0.3618 - acc: 0.8512\n",
      "Epoch 288/300\n",
      "242/242 [==============================] - 0s 33us/step - loss: 0.3775 - acc: 0.8182\n",
      "Epoch 289/300\n",
      "242/242 [==============================] - 0s 29us/step - loss: 0.4119 - acc: 0.8099\n",
      "Epoch 290/300\n",
      "242/242 [==============================] - 0s 33us/step - loss: 0.3711 - acc: 0.8264\n",
      "Epoch 291/300\n",
      "242/242 [==============================] - 0s 45us/step - loss: 0.3707 - acc: 0.8264\n",
      "Epoch 292/300\n",
      "242/242 [==============================] - 0s 74us/step - loss: 0.3904 - acc: 0.8223\n",
      "Epoch 293/300\n",
      "242/242 [==============================] - 0s 74us/step - loss: 0.3814 - acc: 0.8058\n",
      "Epoch 294/300\n",
      "242/242 [==============================] - 0s 82us/step - loss: 0.3845 - acc: 0.8306\n",
      "Epoch 295/300\n",
      "242/242 [==============================] - 0s 78us/step - loss: 0.3706 - acc: 0.8430\n",
      "Epoch 296/300\n",
      "242/242 [==============================] - 0s 78us/step - loss: 0.3612 - acc: 0.8471\n",
      "Epoch 297/300\n",
      "242/242 [==============================] - 0s 74us/step - loss: 0.3620 - acc: 0.8554\n",
      "Epoch 298/300\n",
      "242/242 [==============================] - 0s 74us/step - loss: 0.3909 - acc: 0.8471\n",
      "Epoch 299/300\n",
      "242/242 [==============================] - 0s 74us/step - loss: 0.3796 - acc: 0.8306\n",
      "Epoch 300/300\n",
      "242/242 [==============================] - 0s 74us/step - loss: 0.3906 - acc: 0.8140\n"
     ]
    },
    {
     "data": {
      "text/plain": [
       "<keras.callbacks.History at 0x2025a4e20b8>"
      ]
     },
     "execution_count": 65,
     "metadata": {},
     "output_type": "execute_result"
    }
   ],
   "source": [
    "model.fit(X_train,Y_train,epochs=300)"
   ]
  },
  {
   "cell_type": "code",
   "execution_count": 66,
   "metadata": {
    "_uuid": "c844af4f00d40c4cce4c4e5a9a01c9a892e9533d"
   },
   "outputs": [],
   "source": [
    "Y_pred_nn = model.predict(X_test)"
   ]
  },
  {
   "cell_type": "code",
   "execution_count": 67,
   "metadata": {
    "_uuid": "7e95c4946c0103225663862f43f31c41ed5aa2b1"
   },
   "outputs": [
    {
     "data": {
      "text/plain": [
       "(61, 1)"
      ]
     },
     "execution_count": 67,
     "metadata": {},
     "output_type": "execute_result"
    }
   ],
   "source": [
    "Y_pred_nn.shape"
   ]
  },
  {
   "cell_type": "code",
   "execution_count": 68,
   "metadata": {
    "_uuid": "66d9268e3f87b5a98066196eaa39363218a20015"
   },
   "outputs": [],
   "source": [
    "rounded = [round(x[0]) for x in Y_pred_nn]\n",
    "\n",
    "Y_pred_nn = rounded"
   ]
  },
  {
   "cell_type": "code",
   "execution_count": 69,
   "metadata": {
    "_uuid": "888d79632c3191c2d11c1ec3da8dc750c9d95424"
   },
   "outputs": [
    {
     "name": "stdout",
     "output_type": "stream",
     "text": [
      "The accuracy score achieved using Neural Network is: 81.97 %\n"
     ]
    }
   ],
   "source": [
    "score_nn = round(accuracy_score(Y_pred_nn,Y_test)*100,2)\n",
    "\n",
    "print(\"The accuracy score achieved using Neural Network is: \"+str(score_nn)+\" %\")\n",
    "\n",
    "#Note: Accuracy of 85% can be achieved on the test set, by setting epochs=2000, and number of nodes = 11. "
   ]
  },
  {
   "cell_type": "markdown",
   "metadata": {
    "_uuid": "c634cd922d716d350f6db0244772260cc598dec4"
   },
   "source": [
    "## VI. Output final score"
   ]
  },
  {
   "cell_type": "code",
   "execution_count": 70,
   "metadata": {
    "_uuid": "101daa51242624c49bb8b3198d9d2c9f8f1c596e"
   },
   "outputs": [
    {
     "name": "stdout",
     "output_type": "stream",
     "text": [
      "The accuracy score achieved using Logistic Regression is: 85.25 %\n",
      "The accuracy score achieved using Naive Bayes is: 85.25 %\n",
      "The accuracy score achieved using Support Vector Machine is: 81.97 %\n",
      "The accuracy score achieved using K-Nearest Neighbors is: 67.21 %\n",
      "The accuracy score achieved using Decision Tree is: 81.97 %\n",
      "The accuracy score achieved using Random Forest is: 95.08 %\n",
      "The accuracy score achieved using Neural Network is: 81.97 %\n"
     ]
    }
   ],
   "source": [
    "scores = [score_lr,score_nb,score_svm,score_knn,score_dt,score_rf,score_nn]\n",
    "algorithms = [\"Logistic Regression\",\"Naive Bayes\",\"Support Vector Machine\",\"K-Nearest Neighbors\",\"Decision Tree\",\"Random Forest\",\"Neural Network\"]    \n",
    "\n",
    "for i in range(len(algorithms)):\n",
    "    print(\"The accuracy score achieved using \"+algorithms[i]+\" is: \"+str(scores[i])+\" %\")"
   ]
  },
  {
   "cell_type": "code",
   "execution_count": 72,
   "metadata": {
    "_uuid": "8060c7d426f9f7b64772f37e0a74ededca16838d"
   },
   "outputs": [
    {
     "data": {
      "text/plain": [
       "<matplotlib.axes._subplots.AxesSubplot at 0x2025e728d68>"
      ]
     },
     "execution_count": 72,
     "metadata": {},
     "output_type": "execute_result"
    },
    {
     "data": {
      "image/png": "[encoded data removed]",
      "text/plain": [
       "<Figure size 1080x576 with 1 Axes>"
      ]
     },
     "metadata": {},
     "output_type": "display_data"
    }
   ],
   "source": [
    "sns.set(rc={'figure.figsize':(15,8)})\n",
    "plt.xlabel(\"Algorithms\")\n",
    "plt.ylabel(\"Accuracy score\")\n",
    "\n",
    "sns.barplot(algorithms,scores)"
   ]
  }
 ],
 "metadata": {
  "kernelspec": {
   "display_name": "Python 3",
   "language": "python",
   "name": "python3"
  },
  "language_info": {
   "codemirror_mode": {
    "name": "ipython",
    "version": 3
   },
   "file_extension": ".py",
   "mimetype": "text/x-python",
   "name": "python",
   "nbconvert_exporter": "python",
   "pygments_lexer": "ipython3",
   "version": "3.6.6"
  }
 },
 "nbformat": 4,
 "nbformat_minor": 2
}
